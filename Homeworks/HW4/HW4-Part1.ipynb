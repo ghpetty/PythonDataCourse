{
 "cells": [
  {
   "cell_type": "markdown",
   "metadata": {},
   "source": [
    "# HW4 Part 1 - Review of Python Classes\n",
    "\n",
    "April 21, 2020\n",
    "\n",
    "The following is meant to be a brief review of classes in Python. If you feel comfortable with building and manipulating classes in Python, feel free to skim this part"
   ]
  },
  {
   "cell_type": "code",
   "execution_count": 1,
   "metadata": {},
   "outputs": [],
   "source": [
    "import numpy as np\n",
    "import matplotlib.pyplot as plt\n",
    "import pandas as pd"
   ]
  },
  {
   "cell_type": "markdown",
   "metadata": {},
   "source": [
    "## 1a) Create a class \"`Dog`\" with an `__init__` function that takes in the variable `name`"
   ]
  },
  {
   "cell_type": "code",
   "execution_count": 2,
   "metadata": {},
   "outputs": [],
   "source": [
    "class Dog:\n",
    "\n",
    "    def __init__(self, name):\n",
    "        # assign 'name' to self here as a data attribute\n",
    "        self.name = name"
   ]
  },
  {
   "cell_type": "code",
   "execution_count": 3,
   "metadata": {},
   "outputs": [],
   "source": [
    "mydog = Dog('Jojo')"
   ]
  },
  {
   "cell_type": "code",
   "execution_count": 4,
   "metadata": {},
   "outputs": [
    {
     "data": {
      "text/plain": [
       "'Jojo'"
      ]
     },
     "execution_count": 4,
     "metadata": {},
     "output_type": "execute_result"
    }
   ],
   "source": [
    "mydog.name"
   ]
  },
  {
   "cell_type": "markdown",
   "metadata": {},
   "source": [
    "# 1b) Add a method to this class `add_trick` that takes in a variable `trick`\n",
    "Keep in mind that a Dog might learn many tricks - you might keep track of the tricks it learns in a list"
   ]
  },
  {
   "cell_type": "code",
   "execution_count": 8,
   "metadata": {},
   "outputs": [],
   "source": [
    "class Dog:\n",
    "\n",
    "    def __init__(self, name): \n",
    "        # your code here\n",
    "        self.name = name;\n",
    "        self.tricks = [];\n",
    "        \n",
    "    def add_trick(self, trick): # this is a method attribute\n",
    "        # your code here\n",
    "        self.tricks = self.tricks + [trick];"
   ]
  },
  {
   "cell_type": "code",
   "execution_count": 9,
   "metadata": {},
   "outputs": [
    {
     "data": {
      "text/plain": [
       "['roll over', 'play dead', 'flippy flip']"
      ]
     },
     "execution_count": 9,
     "metadata": {},
     "output_type": "execute_result"
    }
   ],
   "source": [
    "# test your code\n",
    "mydog = Dog('Jojo')\n",
    "mydog.add_trick('roll over')\n",
    "mydog.add_trick('play dead')\n",
    "mydog.add_trick('flippy flip')\n",
    "\n",
    "# print the tricks here\n",
    "mydog.tricks### complete here"
   ]
  },
  {
   "cell_type": "markdown",
   "metadata": {},
   "source": [
    "## 1c) Modify the class so that it keeps track of the dog's age, gender and species\n",
    "Would these be better as a data attributes or as a method attributes?"
   ]
  },
  {
   "cell_type": "code",
   "execution_count": 17,
   "metadata": {},
   "outputs": [],
   "source": [
    "# Testing out making some inputs optional\n",
    "class Dog:\n",
    "\n",
    "    def __init__(self, name,age = 'Unknown',gender = 'Unknown',breed = 'Unknown'): \n",
    "        # your code here\n",
    "        self.name = name;\n",
    "        self.age = age;\n",
    "        self.gender = gender;\n",
    "        self.breed = breed;\n",
    "        self.tricks = []; # Store future tricks here\n",
    "        \n",
    "    def add_trick(self, trick): # this is a method attribute\n",
    "        # your code here\n",
    "        self.tricks = self.tricks + [trick];"
   ]
  },
  {
   "cell_type": "markdown",
   "metadata": {},
   "source": [
    "## 1d) Create 3 dogs with various characteristics, and assign them different tricks"
   ]
  },
  {
   "cell_type": "code",
   "execution_count": 29,
   "metadata": {},
   "outputs": [
    {
     "name": "stdout",
     "output_type": "stream",
     "text": [
      "['Roll Over', 'Shake']\n"
     ]
    }
   ],
   "source": [
    "# your code here\n",
    "pooch1 = Dog('Rover',gender = 'M',age = 5,breed = 'Bulldog')\n",
    "pooch1.add_trick('Speak')\n",
    "\n",
    "pooch2 = Dog('Froofroo',gender = 'F',age = 1,breed = 'Poodle')\n",
    "pooch2.add_trick('Roll Over'); pooch2.add_trick('Shake')\n",
    "print(pooch2.tricks)\n",
    "\n",
    "pooch3 = Dog('Bowser',gender = 'M',age = 12,breed = 'Mutt')\n",
    "pooch3.add_trick('Fetch')"
   ]
  },
  {
   "cell_type": "markdown",
   "metadata": {},
   "source": [
    "## 1e) Create a method/function `print_summary` for the Dog class that prints all the relevant data and tricks"
   ]
  },
  {
   "cell_type": "code",
   "execution_count": 41,
   "metadata": {},
   "outputs": [],
   "source": [
    "class Dog:\n",
    "\n",
    "    def __init__(self, name,age = 'Unknown',gender = 'Unknown',breed = 'Unknown'): \n",
    "        # your code here\n",
    "        self.name = name;\n",
    "        self.age = age;\n",
    "        self.gender = gender;\n",
    "        self.breed = breed;\n",
    "        self.tricks = []; # Store future tricks here\n",
    "        \n",
    "    def add_trick(self, trick): # this is a method attribute\n",
    "        # your code here\n",
    "        self.tricks = self.tricks + [trick];\n",
    "        \n",
    "    def print_summary(self):\n",
    "        print('name: ',self.name)\n",
    "        print('age: ',self.age)\n",
    "        print('gender: ',self.gender)\n",
    "        print('breed: ',self.breed)\n",
    "        if self.tricks: # This returns false if the list is empty, and true otherwise. \n",
    "            print('known tricks: ',self.tricks)"
   ]
  },
  {
   "cell_type": "code",
   "execution_count": 45,
   "metadata": {},
   "outputs": [
    {
     "name": "stdout",
     "output_type": "stream",
     "text": [
      "name:  Rover\n",
      "age:  5\n",
      "gender:  M\n",
      "breed:  Bulldog\n",
      "\n",
      "\n",
      "name:  Froofroo\n",
      "age:  1\n",
      "gender:  F\n",
      "breed:  Poodle\n",
      "known tricks:  ['Roll Over', 'Shake']\n",
      "\n",
      "\n",
      "name:  Bowser\n",
      "age:  12\n",
      "gender:  M\n",
      "breed:  Mutt\n",
      "known tricks:  ['Fetch']\n",
      "\n",
      "\n"
     ]
    }
   ],
   "source": [
    "# create 3 dogs again with your new/modified class and \n",
    "pooch1 = Dog('Rover',gender = 'M',age = 5,breed = 'Bulldog')\n",
    "# pooch1.add_trick('Speak')\n",
    "\n",
    "pooch2 = Dog('Froofroo',gender = 'F',age = 1,breed = 'Poodle')\n",
    "pooch2.add_trick('Roll Over'); pooch2.add_trick('Shake')\n",
    "\n",
    "pooch3 = Dog('Bowser',gender = 'M',age = 12,breed = 'Mutt')\n",
    "pooch3.add_trick('Fetch')\n",
    "dogs = [pooch1,pooch2,pooch3]\n",
    "for d in dogs:\n",
    "    d.print_summary()\n",
    "    print(\"\\n\")"
   ]
  },
  {
   "cell_type": "markdown",
   "metadata": {},
   "source": [
    "## 1f) Finally, create a function/method that returns a pandas dataframe of the dog's name, age, gender species and tricks"
   ]
  },
  {
   "cell_type": "markdown",
   "metadata": {},
   "source": [
    "This code should run. What do you notice about having multiple tricks?"
   ]
  },
  {
   "cell_type": "code",
   "execution_count": 64,
   "metadata": {},
   "outputs": [],
   "source": [
    "class Dog:\n",
    "\n",
    "    def __init__(self,name,age = 'Unknown',gender = 'Unknown',breed = 'Unknown'): \n",
    "        # your code here\n",
    "        self.name = name;\n",
    "        self.age = age;\n",
    "        self.gender = gender;\n",
    "        self.breed = breed;\n",
    "        self.tricks = []; # Store future tricks here\n",
    "        \n",
    "    def add_trick(self, trick): # this is a method attribute\n",
    "        # your code here\n",
    "        self.tricks = self.tricks + [trick];\n",
    "        \n",
    "    def print_summary(self):\n",
    "        print('name: ',self.name)\n",
    "        print('age: ',self.age)\n",
    "        print('gender: ',self.gender)\n",
    "        print('breed: ',self.breed)\n",
    "        if self.tricks: # This returns false if the list is empty, and true otherwise. \n",
    "            print('known tricks: ',self.tricks)\n",
    "    \n",
    "    def return_df(self):\n",
    "        df_out = pd.DataFrame([[self.name,self.age,self.gender,self.breed,self.tricks]],\n",
    "                              columns = ['Name','Age','Gender','Breed','Tricks'])\n",
    "                              #[self.name,self.age,self.gender,self.breed])\n",
    "        return(df_out)\n",
    "        "
   ]
  },
  {
   "cell_type": "code",
   "execution_count": 65,
   "metadata": {},
   "outputs": [
    {
     "data": {
      "text/html": [
       "<div>\n",
       "<style scoped>\n",
       "    .dataframe tbody tr th:only-of-type {\n",
       "        vertical-align: middle;\n",
       "    }\n",
       "\n",
       "    .dataframe tbody tr th {\n",
       "        vertical-align: top;\n",
       "    }\n",
       "\n",
       "    .dataframe thead th {\n",
       "        text-align: right;\n",
       "    }\n",
       "</style>\n",
       "<table border=\"1\" class=\"dataframe\">\n",
       "  <thead>\n",
       "    <tr style=\"text-align: right;\">\n",
       "      <th></th>\n",
       "      <th>Name</th>\n",
       "      <th>Age</th>\n",
       "      <th>Gender</th>\n",
       "      <th>Breed</th>\n",
       "      <th>Tricks</th>\n",
       "    </tr>\n",
       "  </thead>\n",
       "  <tbody>\n",
       "    <tr>\n",
       "      <th>0</th>\n",
       "      <td>Jojo</td>\n",
       "      <td>12</td>\n",
       "      <td>M</td>\n",
       "      <td>collie</td>\n",
       "      <td>[roll over, flippy flip]</td>\n",
       "    </tr>\n",
       "  </tbody>\n",
       "</table>\n",
       "</div>"
      ],
      "text/plain": [
       "   Name  Age Gender   Breed                    Tricks\n",
       "0  Jojo   12      M  collie  [roll over, flippy flip]"
      ]
     },
     "execution_count": 65,
     "metadata": {},
     "output_type": "execute_result"
    }
   ],
   "source": [
    "jojo = Dog(name = 'Jojo',age=12,gender='M',breed='collie')\n",
    "\n",
    "jojo.add_trick('roll over')\n",
    "jojo.add_trick('flippy flip')\n",
    "\n",
    "df = jojo.return_df()\n",
    "\n",
    "df.head()"
   ]
  },
  {
   "cell_type": "code",
   "execution_count": null,
   "metadata": {},
   "outputs": [],
   "source": []
  }
 ],
 "metadata": {
  "kernelspec": {
   "display_name": "Python 3",
   "language": "python",
   "name": "python3"
  },
  "language_info": {
   "codemirror_mode": {
    "name": "ipython",
    "version": 3
   },
   "file_extension": ".py",
   "mimetype": "text/x-python",
   "name": "python",
   "nbconvert_exporter": "python",
   "pygments_lexer": "ipython3",
   "version": "3.7.6"
  }
 },
 "nbformat": 4,
 "nbformat_minor": 2
}
